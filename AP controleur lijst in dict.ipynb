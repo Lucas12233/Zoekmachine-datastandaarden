{
 "cells": [
  {
   "cell_type": "code",
   "execution_count": 3,
   "metadata": {},
   "outputs": [],
   "source": [
    "from bs4 import BeautifulSoup\n",
    "from selenium import webdriver\n",
    "import json\n",
    "import os\n",
    "from pprintpp import pprint"
   ]
  },
  {
   "cell_type": "markdown",
   "metadata": {},
   "source": [
    "<h2><b>1. Data uit het applicatieprofiel halen"
   ]
  },
  {
   "cell_type": "code",
   "execution_count": 4,
   "metadata": {},
   "outputs": [],
   "source": [
    "#haal data uit AP\n",
    "def getData(link, driver):\n",
    "    driver.get(link)\n",
    "    html = driver.page_source\n",
    "    soup = BeautifulSoup(html, features=\"lxml\")\n",
    "    \n",
    "    entiteiten = False\n",
    "    datatypes = False\n",
    "    klassen = []\n",
    "    typedict = []\n",
    "    \n",
    "    for d in soup.find_all('div', attrs={\"class\":\"region region--no-space-top\"}):\n",
    "        #entiteiten ophalen\n",
    "        for h2 in d.find_all('h2'):\n",
    "            if h2.text == \"Entiteiten\":\n",
    "                entiteiten = True\n",
    "        if entiteiten:\n",
    "            datatypes = False\n",
    "            for h3 in d.find_all('h3'): #hier zit je in de box van een klasse\n",
    "                for a in h3.find_all('a'): #link van de klasse zelf in een dict\n",
    "                    linkdict = {'link':a['href']}\n",
    "                for dl in d.find_all('dl'): #hier zit je in de box met de informatie van de klasse zelf\n",
    "                    beschr = False #steek beschrijving in een dict\n",
    "                    for dt in dl.find_all(['dt','dd']):\n",
    "                        if beschr:\n",
    "                            beschrijving = {'beschrijving':dt.text}\n",
    "                            beschr = False\n",
    "                        if dt.text == \"Beschrijving\":\n",
    "                            beschr = True\n",
    "                \n",
    "                #enkel de beschrijving wordt opgeslagen, de rest kan maar lijkt nutteloos\n",
    "\n",
    "                #attributen ophalen\n",
    "                attributen = {}\n",
    "                for tr in d.find_all('tr', attrs={\"typeof\":\"rdfs:Property\"}):\n",
    "                    lijst = []\n",
    "                    for td in tr.find_all('td'):\n",
    "                        geenLink = True\n",
    "                        for a in td.find_all('a'):\n",
    "                            attrlink = {}\n",
    "                            if a.text[5:10] == \"     \":\n",
    "                                attrlink[a.text[29:]] = a['href']\n",
    "                            else:\n",
    "                                attrlink[a.text] = a['href']\n",
    "                            lijst.append(attrlink)\n",
    "                            geenLink = False\n",
    "                        if geenLink:\n",
    "                            lijst.append(td.text)\n",
    "                    \n",
    "                    attributen['attributen'] = lijst\n",
    "                if attributen == {}:\n",
    "                    attributen['attributen'] = [{'bla':'bla'},{'bla':'bla'},'bla','bla','bla','bla']\n",
    "                klasse = [linkdict, beschrijving, attributen]\n",
    "                klassen.append({ h3.text : klasse })\n",
    "        \n",
    "        #datatypes ophalen\n",
    "        for h2 in d.find_all('h2'):\n",
    "            if h2.text == \"Datatypes\":\n",
    "                datatypes = True\n",
    "        if datatypes:\n",
    "            entiteiten = False\n",
    "            for h3 in d.find_all('h3'): #hier zit je in de box van een datatype\n",
    "                for a in h3.find_all('a'): #link van het datatype zelf in een dict\n",
    "                    linkdict = {'link':a['href']}\n",
    "                for dl in d.find_all('dl'): #hier zit je in de box met de informatie van het datatype zelf\n",
    "                    beschr = False #steek beschrijving in een dict\n",
    "                    for dt in dl.find_all(['dt','dd']):\n",
    "                        if beschr:\n",
    "                            beschrijving = {'beschrijving':dt.text}\n",
    "                            beschr = False\n",
    "                        if dt.text == \"Beschrijving\":\n",
    "                            beschr = True\n",
    "                \n",
    "                #enkel de beschrijving wordt opgeslagen, de rest kan maar lijkt nutteloos\n",
    "\n",
    "                #attributen ophalen\n",
    "                attributen = {}\n",
    "                for tr in d.find_all('tr', attrs={\"typeof\":\"rdfs:Property\"}):\n",
    "                    lijst = []\n",
    "                    for td in tr.find_all('td'):\n",
    "                        geenLink = True\n",
    "                        for a in td.find_all('a'):\n",
    "                            attrlink = {}\n",
    "                            if a.text[5:10] == \"     \":\n",
    "                                attrlink[a.text[29:]] = a['href']\n",
    "                            else:\n",
    "                                attrlink[a.text] = a['href']\n",
    "                            lijst.append(attrlink)\n",
    "                            geenLink = False\n",
    "                        if geenLink:\n",
    "                            lijst.append(td.text)\n",
    "                    \n",
    "                    attributen['attributen'] = lijst\n",
    "                if attributen == {}:\n",
    "                    attributen['attributen'] = [{'bla':'bla'},{'bla':'bla'},'bla','bla','bla','bla']\n",
    "                datatype = [linkdict, beschrijving, attributen]\n",
    "                typedict.append({ h3.text : datatype })\n",
    "        \n",
    "    \n",
    "    stanDict = {}\n",
    "    stanDict[\"Entiteiten\"] = klassen\n",
    "    stanDict[\"Datatypes\"] = typedict\n",
    "    return stanDict\n"
   ]
  },
  {
   "cell_type": "markdown",
   "metadata": {},
   "source": [
    "<h2><b>2. Data van het applicatieprofiel analyseren"
   ]
  },
  {
   "cell_type": "code",
   "execution_count": 5,
   "metadata": {},
   "outputs": [],
   "source": [
    "#analyseer het AP\n",
    "def analyse(data):\n",
    "    resultaat = \"\"\n",
    "    for soort in data:\n",
    "        for entiteit in data[soort]:\n",
    "            \n",
    "            #link van klasse zelf checken\n",
    "            if \"fixme\" in list(entiteit.values())[0][0]['link']:\n",
    "                resultaat += \"fixme gevonden in de link van klasse \\\"{}\\\"\\n\".format(list(entiteit.keys())[0])\n",
    "            \n",
    "            #beschrijving van de klasse zelf checken\n",
    "            if list(entiteit.values())[0][1]['beschrijving'] == \"\":\n",
    "                resultaat += \"Geen beschrijving gevonden bij klasse \\\"{}\\\"\\n\".format(list(entiteit.keys())[0])\n",
    "            \n",
    "            #attributen hier overlopen\n",
    "            attribuut = list(list(list(entiteit.values())[0][2].values())[0][0].keys())[0]\n",
    "            attributen = list(list(entiteit.values())[0][2].values())[0]\n",
    "            \n",
    "            cel = attributen[0]\n",
    "            if \"fixme\" in cel[list(cel.keys())[0]]:\n",
    "                resultaat += \"fixme gevonden in attribuut \\\"{}\\\" van klasse \\\"{}\\\"\\n\".format(attribuut, list(entiteit.keys())[0])\n",
    "            cel = attributen[1]\n",
    "            try:\n",
    "                if \"fixme\" in cel[list(cel.keys())[0]]:\n",
    "                    resultaat += \"fixme gevonden in attribuut \\\"{}\\\" van klasse \\\"{}\\\"\\n\".format(attribuut, list(entiteit.keys())[0])\n",
    "            except:\n",
    "                resultaat += \"Geen verwacht type gevonden bij attribuut \\\"{}\\\" van klasse \\\"{}\\\"\\n\".format(attribuut, list(entiteit.keys())[0])\n",
    "            cel = attributen[2]\n",
    "            if cel == \"\":\n",
    "                resultaat += \"Kardinaliteit ontbreekt in attribuut \\\"{}\\\" van klasse \\\"{}\\\"\\n\".format(attribuut, list(entiteit.keys())[0])\n",
    "            cel = attributen[3]\n",
    "            if cel == \"\":\n",
    "                resultaat += \"Definitie ontbreekt in attribuut \\\"{}\\\" van klasse \\\"{}\\\"\\n\".format(attribuut, list(entiteit.keys())[0])\n",
    "    \n",
    "    if resultaat == \"\":\n",
    "        resultaat += \"Alles is in orde!\"\n",
    "    \n",
    "    return resultaat"
   ]
  },
  {
   "attachments": {},
   "cell_type": "markdown",
   "metadata": {},
   "source": [
    "<h2><b>3. Conistentie van de database"
   ]
  },
  {
   "cell_type": "code",
   "execution_count": null,
   "metadata": {},
   "outputs": [],
   "source": [
    "def consistentie(database):\n",
    "    #alle attributen doorlopen\n",
    "    "
   ]
  },
  {
   "cell_type": "markdown",
   "metadata": {},
   "source": [
    "<h3><b>3.1 Alle links controleren"
   ]
  },
  {
   "cell_type": "code",
   "execution_count": 14,
   "metadata": {},
   "outputs": [],
   "source": [
    "driver = webdriver.Chrome()\n",
    "\n",
    "links = ['https://data.vlaanderen.be/doc/applicatieprofiel/bedrijventerrein/', 'https://data.vlaanderen.be/doc/applicatieprofiel/besluit-publicatie/', 'https://data.vlaanderen.be/doc/applicatieprofiel/besluitvorming', 'https://data.vlaanderen.be/doc/applicatieprofiel/contactvoorkeuren/', 'https://data.vlaanderen.be/doc/applicatieprofiel/cultureel-erfgoed-event', 'https://data.vlaanderen.be/doc/applicatieprofiel/cultureel-erfgoed-object', 'https://data.vlaanderen.be/doc/applicatieprofiel/DCAT-AP-VL/erkendestandaard/2021-12-02', 'https://data.vlaanderen.be/doc/applicatieprofiel/DCAT-AP-VL', 'https://data.vlaanderen.be/doc/applicatieprofiel/dienst-transactiemodel/', 'https://data.vlaanderen.be/doc/applicatieprofiel/dossier/', 'https://data.vlaanderen.be/doc/applicatieprofiel/generieke-terugmeldfaciliteit/', 'https://data.vlaanderen.be/doc/applicatieprofiel/issue-tracking-voor-burgers-en-organisaties/', 'https://data.vlaanderen.be/doc/applicatieprofiel/ldes', 'https://data.vlaanderen.be/doc/applicatieprofiel/mandatendatabank/', 'https://data.vlaanderen.be/doc/applicatieprofiel/metadata-dcat/', 'https://data.vlaanderen.be/doc/applicatieprofiel/mobiliteit/dienstregeling-en-planning/stopplaatsen/', 'https://data.vlaanderen.be/doc/applicatieprofiel/mobiliteit/dienstregeling-en-planning/tijdstabellen/', 'https://data.vlaanderen.be/doc/applicatieprofiel/mobiliteit/dienstregeling-en-planning/voertuigplanning/', 'https://data.vlaanderen.be/doc/applicatieprofiel/mobiliteit-trips-en-aanbod', 'https://data.vlaanderen.be/doc/applicatieprofiel/notificatie-basis/', 'https://data.vlaanderen.be/doc/applicatieprofiel/openbaar-domein/', 'https://data.vlaanderen.be/doc/applicatieprofiel/perceel/', 'https://data.vlaanderen.be/doc/applicatieprofiel/logies-basis/', 'https://data.vlaanderen.be/doc/applicatieprofiel/mobiliteit/vervoersknooppunten', 'https://data.vlaanderen.be/doc/applicatieprofiel/vlaamse-codex/', 'https://data.vlaanderen.be/doc/applicatieprofiel/begraafplaatsenbeheer/', 'https://data.vlaanderen.be/doc/applicatieprofiel/begroeid-voorkomen/', 'https://data.vlaanderen.be/doc/applicatieprofiel/infrastructuurelementen/', 'https://data.vlaanderen.be/doc/applicatieprofiel/onbegroeid-voorkomen/', 'https://data.vlaanderen.be/doc/applicatieprofiel/terreindelen/', 'https://data.vlaanderen.be/doc/applicatieprofiel/vegetatie-elementen/', 'https://data.vlaanderen.be/doc/applicatieprofiel/watervoorkomen/', 'https://data.vlaanderen.be/doc/applicatieprofiel/waterdelen/', 'https://data.vlaanderen.be/doc/applicatieprofiel/begraafplaatsen', 'https://data.vlaanderen.be/doc/applicatieprofiel/begraafplaatsenbeheer', 'https://data.vlaanderen.be/doc/applicatieprofiel/begroeid-voorkomen', 'https://data.vlaanderen.be/doc/applicatieprofiel/gebieden', 'https://data.vlaanderen.be/doc/applicatieprofiel/infrastructuurelementen', 'https://data.vlaanderen.be/doc/applicatieprofiel/onbegroeid-voorkomen', 'https://data.vlaanderen.be/doc/applicatieprofiel/terreindelen', 'https://data.vlaanderen.be/doc/applicatieprofiel/vegetatie-elementen', 'https://data.vlaanderen.be/doc/applicatieprofiel/waterdelen', 'https://data.vlaanderen.be/doc/applicatieprofiel/watervoorkomen', 'https://data.vlaanderen.be/doc/applicatieprofiel/openbaar-domein', 'https://data.vlaanderen.be/doc/applicatieprofiel/openbaar-domein', 'https://data.vlaanderen.be/doc/applicatieprofiel/gebieden', 'https://data.vlaanderen.be/doc/applicatieprofiel/infrastructuurelementen', 'https://data.vlaanderen.be/doc/applicatieprofiel/vegetatie-elementen', 'https://data.vlaanderen.be/doc/applicatieprofiel/terreindelen', 'https://data.vlaanderen.be/doc/applicatieprofiel/begroeid-voorkomen', 'https://data.vlaanderen.be/doc/applicatieprofiel/onbegroeid-voorkomen', 'https://data.vlaanderen.be/doc/applicatieprofiel/waterdelen', 'https://data.vlaanderen.be/doc/applicatieprofiel/watervoorkomen', 'https://data.vlaanderen.be/doc/applicatieprofiel/begraafplaatsen', 'https://data.vlaanderen.be/doc/applicatieprofiel/begraafplaatsenbeheer', 'https://data.vlaanderen.be/doc/applicatieprofiel/bedrijventerrein/', 'https://data.vlaanderen.be/doc/applicatieprofiel/dossier/', 'https://data.vlaanderen.be/doc/applicatieprofiel/adresregister/', 'https://data.vlaanderen.be/doc/applicatieprofiel/besluit-mobiliteit/', 'https://data.vlaanderen.be/doc/applicatieprofiel/subsidieregister/', 'https://data.vlaanderen.be/doc/applicatieprofiel/bestuurlijk-sanctieregister', 'https://data.vlaanderen.be/doc/applicatieprofiel/bodem-en-ondergrond/bodem-en-ondergrond/kandidaatstandaard/2022-04-28', 'https://data.vlaanderen.be/doc/applicatieprofiel/dienstencataloog/', 'https://data.vlaanderen.be/doc/applicatieprofiel/cultuurparticipatie', 'https://data.vlaanderen.be/doc/applicatieprofiel/FeitelijkeVerenigingen/', 'https://data.vlaanderen.be/doc/applicatieprofiel/financiele-data', 'https://data.vlaanderen.be/doc/applicatieprofiel/inname-openbaar-domein/', 'https://data.vlaanderen.be/doc/applicatieprofiel/loongegevens', 'https://data.vlaanderen.be/doc/applicatieprofiel/observaties-en-metingen/kandidaatstandaard/2022-04-28', 'https://data.vlaanderen.be/doc/applicatieprofiel/organisatie-basis/', 'https://data.vlaanderen.be/doc/applicatieprofiel/persoon-basis/', 'https://data.vlaanderen.be/doc/applicatieprofiel/sensoren-en-bemonstering/kandidaatstandaard/2022-04-28', 'https://data.vlaanderen.be/doc/applicatieprofiel/verkeersborden/', 'https://data.vlaanderen.be/doc/applicatieprofiel/wegenregister/', 'https://data.vlaanderen.be/doc/applicatieprofiel/cultureel-erfgoed-object', 'https://data.vlaanderen.be/doc/applicatieprofiel/cultureel-erfgoed-event', 'https://data.vlaanderen.be/doc/applicatieprofiel/cultuur-en-jeugdinfrastructuur', 'https://data.vlaanderen.be/doc/applicatieprofiel/waterkwaliteit', 'https://data.vlaanderen.be/doc/applicatieprofiel/statistiek', 'https://data.vlaanderen.be/doc/applicatieprofiel/datakwaliteit']\n",
    "\n",
    "database = {}\n",
    "stdlijst = []\n",
    "for link in links:\n",
    "    data = getData(link, driver)\n",
    "    database[link] = data\n",
    "    #print(link, \"\\n\")\n",
    "    #print(resultaat, \"\\n\\n\\n\")\n",
    "\n",
    "with open('database.json', 'w', encoding='utf-8') as f:\n",
    "    json.dump(database, f, ensure_ascii=False, indent=4)\n"
   ]
  },
  {
   "cell_type": "markdown",
   "metadata": {},
   "source": [
    "<h3><b>3.2 Een applicatieprofiel controleren"
   ]
  },
  {
   "cell_type": "code",
   "execution_count": 7,
   "metadata": {},
   "outputs": [
    {
     "name": "stdout",
     "output_type": "stream",
     "text": [
      "Alles is in orde! \n",
      "\n",
      "\n",
      "\n"
     ]
    }
   ],
   "source": [
    "#Haal website op\n",
    "driver = webdriver.Chrome()\n",
    "inp = input(\"Geef de link van het AP: \")\n",
    "try:\n",
    "    data = getData(inp, driver)\n",
    "    resultaat = analyse(data)\n",
    "    print(resultaat, \"\\n\\n\\n\")\n",
    "except:\n",
    "    print(\"Werkt niet!\")\n"
   ]
  },
  {
   "attachments": {},
   "cell_type": "markdown",
   "metadata": {},
   "source": [
    "<b><h3>3.3 Consistentie van de database"
   ]
  },
  {
   "cell_type": "code",
   "execution_count": null,
   "metadata": {},
   "outputs": [],
   "source": []
  },
  {
   "cell_type": "markdown",
   "metadata": {},
   "source": [
    "<h1><b>Appendix"
   ]
  },
  {
   "cell_type": "markdown",
   "metadata": {},
   "source": [
    "<h2>links ophalen vanaf hier</h2>"
   ]
  },
  {
   "cell_type": "code",
   "execution_count": 141,
   "metadata": {},
   "outputs": [],
   "source": [
    "links = ['https://data.vlaanderen.be/doc/applicatieprofiel/bedrijventerrein/', 'https://data.vlaanderen.be/doc/applicatieprofiel/besluit-publicatie/', 'https://data.vlaanderen.be/doc/applicatieprofiel/besluitvorming', 'https://data.vlaanderen.be/doc/applicatieprofiel/contactvoorkeuren/', 'https://data.vlaanderen.be/doc/applicatieprofiel/cultureel-erfgoed-event', 'https://data.vlaanderen.be/doc/applicatieprofiel/cultureel-erfgoed-object', 'https://data.vlaanderen.be/doc/applicatieprofiel/DCAT-AP-VL/erkendestandaard/2021-12-02', 'https://data.vlaanderen.be/doc/applicatieprofiel/DCAT-AP-VL', 'https://data.vlaanderen.be/doc/applicatieprofiel/dienst-transactiemodel/', 'https://data.vlaanderen.be/doc/applicatieprofiel/dossier/', 'https://data.vlaanderen.be/doc/applicatieprofiel/generieke-terugmeldfaciliteit/', 'https://data.vlaanderen.be/doc/applicatieprofiel/issue-tracking-voor-burgers-en-organisaties/', 'https://data.vlaanderen.be/doc/applicatieprofiel/ldes', 'https://data.vlaanderen.be/doc/applicatieprofiel/mandatendatabank/', 'https://data.vlaanderen.be/doc/applicatieprofiel/metadata-dcat/', 'https://data.vlaanderen.be/doc/applicatieprofiel/mobiliteit/dienstregeling-en-planning/stopplaatsen/', 'https://data.vlaanderen.be/doc/applicatieprofiel/mobiliteit/dienstregeling-en-planning/tijdstabellen/', 'https://data.vlaanderen.be/doc/applicatieprofiel/mobiliteit/dienstregeling-en-planning/voertuigplanning/', 'https://data.vlaanderen.be/doc/applicatieprofiel/mobiliteit-trips-en-aanbod', 'https://data.vlaanderen.be/doc/applicatieprofiel/notificatie-basis/', 'https://data.vlaanderen.be/doc/applicatieprofiel/openbaar-domein/', 'https://data.vlaanderen.be/doc/applicatieprofiel/perceel/', 'https://data.vlaanderen.be/doc/applicatieprofiel/logies-basis/', 'https://data.vlaanderen.be/doc/applicatieprofiel/mobiliteit/vervoersknooppunten', 'https://data.vlaanderen.be/doc/applicatieprofiel/vlaamse-codex/', 'https://data.vlaanderen.be/doc/applicatieprofiel/begraafplaatsenbeheer/', 'https://data.vlaanderen.be/doc/applicatieprofiel/begroeid-voorkomen/', 'https://data.vlaanderen.be/doc/applicatieprofiel/infrastructuurelementen/', 'https://data.vlaanderen.be/doc/applicatieprofiel/onbegroeid-voorkomen/', 'https://data.vlaanderen.be/doc/applicatieprofiel/terreindelen/', 'https://data.vlaanderen.be/doc/applicatieprofiel/vegetatie-elementen/', 'https://data.vlaanderen.be/doc/applicatieprofiel/watervoorkomen/', 'https://data.vlaanderen.be/doc/applicatieprofiel/waterdelen/', 'https://data.vlaanderen.be/doc/applicatieprofiel/begraafplaatsen', 'https://data.vlaanderen.be/doc/applicatieprofiel/begraafplaatsenbeheer', 'https://data.vlaanderen.be/doc/applicatieprofiel/begroeid-voorkomen', 'https://data.vlaanderen.be/doc/applicatieprofiel/gebieden', 'https://data.vlaanderen.be/doc/applicatieprofiel/infrastructuurelementen', 'https://data.vlaanderen.be/doc/applicatieprofiel/onbegroeid-voorkomen', 'https://data.vlaanderen.be/doc/applicatieprofiel/terreindelen', 'https://data.vlaanderen.be/doc/applicatieprofiel/vegetatie-elementen', 'https://data.vlaanderen.be/doc/applicatieprofiel/waterdelen', 'https://data.vlaanderen.be/doc/applicatieprofiel/watervoorkomen', 'https://data.vlaanderen.be/doc/applicatieprofiel/openbaar-domein', 'https://data.vlaanderen.be/doc/applicatieprofiel/openbaar-domein', 'https://data.vlaanderen.be/doc/applicatieprofiel/gebieden', 'https://data.vlaanderen.be/doc/applicatieprofiel/infrastructuurelementen', 'https://data.vlaanderen.be/doc/applicatieprofiel/vegetatie-elementen', 'https://data.vlaanderen.be/doc/applicatieprofiel/terreindelen', 'https://data.vlaanderen.be/doc/applicatieprofiel/begroeid-voorkomen', 'https://data.vlaanderen.be/doc/applicatieprofiel/onbegroeid-voorkomen', 'https://data.vlaanderen.be/doc/applicatieprofiel/waterdelen', 'https://data.vlaanderen.be/doc/applicatieprofiel/watervoorkomen', 'https://data.vlaanderen.be/doc/applicatieprofiel/begraafplaatsen', 'https://data.vlaanderen.be/doc/applicatieprofiel/begraafplaatsenbeheer', 'https://data.vlaanderen.be/doc/applicatieprofiel/bedrijventerrein/', 'https://data.vlaanderen.be/doc/applicatieprofiel/dossier/', 'https://data.vlaanderen.be/doc/applicatieprofiel/adresregister/', 'https://data.vlaanderen.be/doc/applicatieprofiel/besluit-mobiliteit/', 'https://data.vlaanderen.be/doc/applicatieprofiel/subsidieregister/', 'https://data.vlaanderen.be/doc/applicatieprofiel/bestuurlijk-sanctieregister', 'https://data.vlaanderen.be/doc/applicatieprofiel/bodem-en-ondergrond/bodem-en-ondergrond/kandidaatstandaard/2022-04-28', 'https://data.vlaanderen.be/doc/applicatieprofiel/dienstencataloog/', 'https://data.vlaanderen.be/doc/applicatieprofiel/cultuurparticipatie', 'https://data.vlaanderen.be/doc/applicatieprofiel/FeitelijkeVerenigingen/', 'https://data.vlaanderen.be/doc/applicatieprofiel/financiele-data', 'https://data.vlaanderen.be/doc/applicatieprofiel/inname-openbaar-domein/', 'https://data.vlaanderen.be/doc/applicatieprofiel/loongegevens', 'https://data.vlaanderen.be/doc/applicatieprofiel/observaties-en-metingen/kandidaatstandaard/2022-04-28', 'https://data.vlaanderen.be/doc/applicatieprofiel/organisatie-basis/', 'https://data.vlaanderen.be/doc/applicatieprofiel/persoon-basis/', 'https://data.vlaanderen.be/doc/applicatieprofiel/sensoren-en-bemonstering/kandidaatstandaard/2022-04-28', 'https://data.vlaanderen.be/doc/applicatieprofiel/verkeersborden/', 'https://data.vlaanderen.be/doc/applicatieprofiel/wegenregister/', 'https://data.vlaanderen.be/doc/applicatieprofiel/cultureel-erfgoed-object', 'https://data.vlaanderen.be/doc/applicatieprofiel/cultureel-erfgoed-event', 'https://data.vlaanderen.be/doc/applicatieprofiel/cultuur-en-jeugdinfrastructuur', 'https://data.vlaanderen.be/doc/applicatieprofiel/waterkwaliteit', 'https://data.vlaanderen.be/doc/applicatieprofiel/statistiek', 'https://data.vlaanderen.be/doc/applicatieprofiel/datakwaliteit']"
   ]
  },
  {
   "cell_type": "code",
   "execution_count": 139,
   "metadata": {},
   "outputs": [
    {
     "name": "stdout",
     "output_type": "stream",
     "text": [
      "['https://data.vlaanderen.be/doc/applicatieprofiel/bedrijventerrein/', 'https://data.vlaanderen.be/doc/applicatieprofiel/besluit-publicatie/', 'https://data.vlaanderen.be/doc/applicatieprofiel/besluitvorming', 'https://data.vlaanderen.be/doc/applicatieprofiel/contactvoorkeuren/', 'https://data.vlaanderen.be/doc/applicatieprofiel/cultureel-erfgoed-event', 'https://data.vlaanderen.be/doc/applicatieprofiel/cultureel-erfgoed-object', 'https://data.vlaanderen.be/doc/applicatieprofiel/DCAT-AP-VL/erkendestandaard/2021-12-02', 'https://data.vlaanderen.be/doc/applicatieprofiel/DCAT-AP-VL', 'https://data.vlaanderen.be/doc/applicatieprofiel/dienst-transactiemodel/', 'https://data.vlaanderen.be/doc/applicatieprofiel/dossier/', 'https://data.vlaanderen.be/doc/applicatieprofiel/generieke-terugmeldfaciliteit/', 'https://data.vlaanderen.be/doc/applicatieprofiel/issue-tracking-voor-burgers-en-organisaties/', 'https://data.vlaanderen.be/doc/applicatieprofiel/ldes', 'https://data.vlaanderen.be/doc/applicatieprofiel/mandatendatabank/', 'https://data.vlaanderen.be/doc/applicatieprofiel/metadata-dcat/', 'https://data.vlaanderen.be/doc/applicatieprofiel/mobiliteit/dienstregeling-en-planning/stopplaatsen/', 'https://data.vlaanderen.be/doc/applicatieprofiel/mobiliteit/dienstregeling-en-planning/tijdstabellen/', 'https://data.vlaanderen.be/doc/applicatieprofiel/mobiliteit/dienstregeling-en-planning/voertuigplanning/', 'https://data.vlaanderen.be/doc/applicatieprofiel/mobiliteit-trips-en-aanbod', 'https://data.vlaanderen.be/doc/applicatieprofiel/notificatie-basis/', 'https://data.vlaanderen.be/doc/applicatieprofiel/openbaar-domein/', 'https://data.vlaanderen.be/doc/applicatieprofiel/perceel/', 'https://data.vlaanderen.be/doc/applicatieprofiel/logies-basis/', 'https://data.vlaanderen.be/doc/applicatieprofiel/mobiliteit/vervoersknooppunten', 'https://data.vlaanderen.be/doc/applicatieprofiel/vlaamse-codex/', 'https://data.vlaanderen.be/doc/applicatieprofiel/begraafplaatsenbeheer/', 'https://data.vlaanderen.be/doc/applicatieprofiel/begroeid-voorkomen/', 'https://data.vlaanderen.be/doc/applicatieprofiel/infrastructuurelementen/', 'https://data.vlaanderen.be/doc/applicatieprofiel/onbegroeid-voorkomen/', 'https://data.vlaanderen.be/doc/applicatieprofiel/terreindelen/', 'https://data.vlaanderen.be/doc/applicatieprofiel/vegetatie-elementen/', 'https://data.vlaanderen.be/doc/applicatieprofiel/watervoorkomen/', 'https://data.vlaanderen.be/doc/applicatieprofiel/waterdelen/', 'https://data.vlaanderen.be/doc/applicatieprofiel/begraafplaatsen', 'https://data.vlaanderen.be/doc/applicatieprofiel/begraafplaatsenbeheer', 'https://data.vlaanderen.be/doc/applicatieprofiel/begroeid-voorkomen', 'https://data.vlaanderen.be/doc/applicatieprofiel/gebieden', 'https://data.vlaanderen.be/doc/applicatieprofiel/infrastructuurelementen', 'https://data.vlaanderen.be/doc/applicatieprofiel/onbegroeid-voorkomen', 'https://data.vlaanderen.be/doc/applicatieprofiel/terreindelen', 'https://data.vlaanderen.be/doc/applicatieprofiel/vegetatie-elementen', 'https://data.vlaanderen.be/doc/applicatieprofiel/waterdelen', 'https://data.vlaanderen.be/doc/applicatieprofiel/watervoorkomen', 'https://data.vlaanderen.be/doc/applicatieprofiel/openbaar-domein', 'https://data.vlaanderen.be/doc/applicatieprofiel/openbaar-domein', 'https://data.vlaanderen.be/doc/applicatieprofiel/gebieden', 'https://data.vlaanderen.be/doc/applicatieprofiel/infrastructuurelementen', 'https://data.vlaanderen.be/doc/applicatieprofiel/vegetatie-elementen', 'https://data.vlaanderen.be/doc/applicatieprofiel/terreindelen', 'https://data.vlaanderen.be/doc/applicatieprofiel/begroeid-voorkomen', 'https://data.vlaanderen.be/doc/applicatieprofiel/onbegroeid-voorkomen', 'https://data.vlaanderen.be/doc/applicatieprofiel/waterdelen', 'https://data.vlaanderen.be/doc/applicatieprofiel/watervoorkomen', 'https://data.vlaanderen.be/doc/applicatieprofiel/begraafplaatsen', 'https://data.vlaanderen.be/doc/applicatieprofiel/begraafplaatsenbeheer', 'https://data.vlaanderen.be/doc/applicatieprofiel/bedrijventerrein/', 'https://data.vlaanderen.be/doc/applicatieprofiel/dossier/', 'https://data.vlaanderen.be/doc/applicatieprofiel/adresregister/', 'https://data.vlaanderen.be/doc/applicatieprofiel/besluit-mobiliteit/', 'https://data.vlaanderen.be/doc/applicatieprofiel/subsidieregister/', 'https://data.vlaanderen.be/doc/applicatieprofiel/bestuurlijk-sanctieregister', 'https://data.vlaanderen.be/doc/applicatieprofiel/bodem-en-ondergrond/bodem-en-ondergrond/kandidaatstandaard/2022-04-28', 'https://data.vlaanderen.be/doc/applicatieprofiel/dienstencataloog/', 'https://data.vlaanderen.be/doc/applicatieprofiel/cultuurparticipatie', 'https://data.vlaanderen.be/doc/applicatieprofiel/FeitelijkeVerenigingen/', 'https://data.vlaanderen.be/doc/applicatieprofiel/financiele-data', 'https://test.data.vlaanderen.be/doc/applicatieprofiel/gebouwenregister/', 'https://data.vlaanderen.be/doc/applicatieprofiel/inname-openbaar-domein/', 'https://data.vlaanderen.be/doc/applicatieprofiel/loongegevens', 'https://data.vlaanderen.be/doc/applicatieprofiel/observaties-en-metingen/kandidaatstandaard/2022-04-28', 'https://data.vlaanderen.be/doc/applicatieprofiel/organisatie-basis/', 'https://data.vlaanderen.be/doc/applicatieprofiel/persoon-basis/', 'https://data.vlaanderen.be/doc/applicatieprofiel/sensoren-en-bemonstering/kandidaatstandaard/2022-04-28', 'https://data.vlaanderen.be/doc/applicatieprofiel/verkeersborden/', 'https://data.vlaanderen.be/doc/applicatieprofiel/wegenregister/', 'https://data.vlaanderen.be/doc/applicatieprofiel/cultureel-erfgoed-object', 'https://data.vlaanderen.be/doc/applicatieprofiel/cultureel-erfgoed-event', 'https://data.vlaanderen.be/doc/applicatieprofiel/cultuur-en-jeugdinfrastructuur', 'https://data.vlaanderen.be/doc/applicatieprofiel/waterkwaliteit', 'https://data.vlaanderen.be/doc/applicatieprofiel/statistiek', 'https://data.vlaanderen.be/doc/applicatieprofiel/datakwaliteit']\n"
     ]
    }
   ],
   "source": [
    "def getLinks(driver):\n",
    "    driver.get('https://data.vlaanderen.be/standaarden/')\n",
    "    html = driver.page_source\n",
    "    soup = BeautifulSoup(html, features=\"lxml\")\n",
    "\n",
    "    dict = {}\n",
    "    for tag in soup.find_all('a', href=True):\n",
    "        titel = tag.text\n",
    "\n",
    "        if \"erkende-standaard\" in tag['href'] or \"kandidaat-standaard\" in tag['href']:\n",
    "            if tag['href'][:4] == \"http\":\n",
    "                link = tag['href']\n",
    "            else:\n",
    "                link = \"https://data.vlaanderen.be\" + tag['href']\n",
    "            \n",
    "            dict[titel] = link\n",
    "    \n",
    "    return dict\n",
    "\n",
    "\n",
    "def getStandaard(link, driver):\n",
    "    driver.get(link)\n",
    "    html = driver.page_source\n",
    "    soup = BeautifulSoup(html, features=\"lxml\")\n",
    "\n",
    "    lijst = []\n",
    "    for art in soup.find_all('article'):\n",
    "        specdoc = False\n",
    "        \n",
    "        for h1 in art.find_all('h1'):\n",
    "            if h1.text == \"Specificatiedocument\":\n",
    "                specdoc = True\n",
    "        \n",
    "        if specdoc == True:\n",
    "            for a in art.find_all('a'):\n",
    "                lijst.append(a['href'])\n",
    "        \n",
    "        return lijst\n",
    "\n",
    "def update():\n",
    "    driver = webdriver.Chrome()\n",
    "    links = getLinks(driver)\n",
    "    \n",
    "    linklijst = []\n",
    "    for link in links.values():\n",
    "        for l in getStandaard(link, driver):\n",
    "            linklijst.append(l)\n",
    "    \n",
    "    #resultaat = []\n",
    "    #for a in linklijst:\n",
    "    #    if 'applicatieprofiel' in a:\n",
    "    #        resultaat.append(a)\n",
    "    print(resultaat)\n",
    "\n",
    "update()\n",
    "    \n"
   ]
  },
  {
   "cell_type": "code",
   "execution_count": 140,
   "metadata": {},
   "outputs": [
    {
     "data": {
      "text/plain": [
       "81"
      ]
     },
     "execution_count": 140,
     "metadata": {},
     "output_type": "execute_result"
    }
   ],
   "source": [
    "len(['https://data.vlaanderen.be/doc/applicatieprofiel/bedrijventerrein/', 'https://data.vlaanderen.be/doc/applicatieprofiel/besluit-publicatie/', 'https://data.vlaanderen.be/doc/applicatieprofiel/besluitvorming', 'https://data.vlaanderen.be/doc/applicatieprofiel/contactvoorkeuren/', 'https://data.vlaanderen.be/doc/applicatieprofiel/cultureel-erfgoed-event', 'https://data.vlaanderen.be/doc/applicatieprofiel/cultureel-erfgoed-object', 'https://data.vlaanderen.be/doc/applicatieprofiel/DCAT-AP-VL/erkendestandaard/2021-12-02', 'https://data.vlaanderen.be/doc/applicatieprofiel/DCAT-AP-VL', 'https://data.vlaanderen.be/doc/applicatieprofiel/dienst-transactiemodel/', 'https://data.vlaanderen.be/doc/applicatieprofiel/dossier/', 'https://data.vlaanderen.be/doc/applicatieprofiel/generieke-terugmeldfaciliteit/', 'https://data.vlaanderen.be/doc/applicatieprofiel/issue-tracking-voor-burgers-en-organisaties/', 'https://data.vlaanderen.be/doc/applicatieprofiel/ldes', 'https://data.vlaanderen.be/doc/applicatieprofiel/mandatendatabank/', 'https://data.vlaanderen.be/doc/applicatieprofiel/metadata-dcat/', 'https://data.vlaanderen.be/doc/applicatieprofiel/mobiliteit/dienstregeling-en-planning/stopplaatsen/', 'https://data.vlaanderen.be/doc/applicatieprofiel/mobiliteit/dienstregeling-en-planning/tijdstabellen/', 'https://data.vlaanderen.be/doc/applicatieprofiel/mobiliteit/dienstregeling-en-planning/voertuigplanning/', 'https://data.vlaanderen.be/doc/applicatieprofiel/mobiliteit-trips-en-aanbod', 'https://data.vlaanderen.be/doc/applicatieprofiel/notificatie-basis/', 'https://data.vlaanderen.be/doc/applicatieprofiel/openbaar-domein/', 'https://data.vlaanderen.be/doc/applicatieprofiel/perceel/', 'https://data.vlaanderen.be/doc/applicatieprofiel/logies-basis/', 'https://data.vlaanderen.be/doc/applicatieprofiel/mobiliteit/vervoersknooppunten', 'https://data.vlaanderen.be/doc/applicatieprofiel/vlaamse-codex/', 'https://data.vlaanderen.be/doc/applicatieprofiel/begraafplaatsenbeheer/', 'https://data.vlaanderen.be/doc/applicatieprofiel/begroeid-voorkomen/', 'https://data.vlaanderen.be/doc/applicatieprofiel/infrastructuurelementen/', 'https://data.vlaanderen.be/doc/applicatieprofiel/onbegroeid-voorkomen/', 'https://data.vlaanderen.be/doc/applicatieprofiel/terreindelen/', 'https://data.vlaanderen.be/doc/applicatieprofiel/vegetatie-elementen/', 'https://data.vlaanderen.be/doc/applicatieprofiel/watervoorkomen/', 'https://data.vlaanderen.be/doc/applicatieprofiel/waterdelen/', 'https://data.vlaanderen.be/doc/applicatieprofiel/begraafplaatsen', 'https://data.vlaanderen.be/doc/applicatieprofiel/begraafplaatsenbeheer', 'https://data.vlaanderen.be/doc/applicatieprofiel/begroeid-voorkomen', 'https://data.vlaanderen.be/doc/applicatieprofiel/gebieden', 'https://data.vlaanderen.be/doc/applicatieprofiel/infrastructuurelementen', 'https://data.vlaanderen.be/doc/applicatieprofiel/onbegroeid-voorkomen', 'https://data.vlaanderen.be/doc/applicatieprofiel/terreindelen', 'https://data.vlaanderen.be/doc/applicatieprofiel/vegetatie-elementen', 'https://data.vlaanderen.be/doc/applicatieprofiel/waterdelen', 'https://data.vlaanderen.be/doc/applicatieprofiel/watervoorkomen', 'https://data.vlaanderen.be/doc/applicatieprofiel/openbaar-domein', 'https://data.vlaanderen.be/doc/applicatieprofiel/openbaar-domein', 'https://data.vlaanderen.be/doc/applicatieprofiel/gebieden', 'https://data.vlaanderen.be/doc/applicatieprofiel/infrastructuurelementen', 'https://data.vlaanderen.be/doc/applicatieprofiel/vegetatie-elementen', 'https://data.vlaanderen.be/doc/applicatieprofiel/terreindelen', 'https://data.vlaanderen.be/doc/applicatieprofiel/begroeid-voorkomen', 'https://data.vlaanderen.be/doc/applicatieprofiel/onbegroeid-voorkomen', 'https://data.vlaanderen.be/doc/applicatieprofiel/waterdelen', 'https://data.vlaanderen.be/doc/applicatieprofiel/watervoorkomen', 'https://data.vlaanderen.be/doc/applicatieprofiel/begraafplaatsen', 'https://data.vlaanderen.be/doc/applicatieprofiel/begraafplaatsenbeheer', 'https://data.vlaanderen.be/doc/applicatieprofiel/bedrijventerrein/', 'https://data.vlaanderen.be/doc/applicatieprofiel/dossier/', 'https://data.vlaanderen.be/doc/applicatieprofiel/adresregister/', 'https://data.vlaanderen.be/doc/applicatieprofiel/besluit-mobiliteit/', 'https://data.vlaanderen.be/doc/applicatieprofiel/subsidieregister/', 'https://data.vlaanderen.be/doc/applicatieprofiel/bestuurlijk-sanctieregister', 'https://data.vlaanderen.be/doc/applicatieprofiel/bodem-en-ondergrond/bodem-en-ondergrond/kandidaatstandaard/2022-04-28', 'https://data.vlaanderen.be/doc/applicatieprofiel/dienstencataloog/', 'https://data.vlaanderen.be/doc/applicatieprofiel/cultuurparticipatie', 'https://data.vlaanderen.be/doc/applicatieprofiel/FeitelijkeVerenigingen/', 'https://data.vlaanderen.be/doc/applicatieprofiel/financiele-data', 'https://data.vlaanderen.be/doc/applicatieprofiel/inname-openbaar-domein/', 'https://data.vlaanderen.be/doc/applicatieprofiel/loongegevens', 'https://data.vlaanderen.be/doc/applicatieprofiel/observaties-en-metingen/kandidaatstandaard/2022-04-28', 'https://data.vlaanderen.be/doc/applicatieprofiel/organisatie-basis/', 'https://data.vlaanderen.be/doc/applicatieprofiel/persoon-basis/', 'https://data.vlaanderen.be/doc/applicatieprofiel/sensoren-en-bemonstering/kandidaatstandaard/2022-04-28', 'https://data.vlaanderen.be/doc/applicatieprofiel/verkeersborden/', 'https://data.vlaanderen.be/doc/applicatieprofiel/wegenregister/', 'https://data.vlaanderen.be/doc/applicatieprofiel/cultureel-erfgoed-object', 'https://data.vlaanderen.be/doc/applicatieprofiel/cultureel-erfgoed-event', 'https://data.vlaanderen.be/doc/applicatieprofiel/cultuur-en-jeugdinfrastructuur', 'https://data.vlaanderen.be/doc/applicatieprofiel/waterkwaliteit', 'https://data.vlaanderen.be/doc/applicatieprofiel/statistiek', 'https://data.vlaanderen.be/doc/applicatieprofiel/datakwaliteit'])"
   ]
  }
 ],
 "metadata": {
  "kernelspec": {
   "display_name": "Python 3.9.7 ('base')",
   "language": "python",
   "name": "python3"
  },
  "language_info": {
   "codemirror_mode": {
    "name": "ipython",
    "version": 3
   },
   "file_extension": ".py",
   "mimetype": "text/x-python",
   "name": "python",
   "nbconvert_exporter": "python",
   "pygments_lexer": "ipython3",
   "version": "3.9.7"
  },
  "orig_nbformat": 4,
  "vscode": {
   "interpreter": {
    "hash": "4c9eed4d6260ae39ea0ad755d72868a3964888a595f5ba95af8f3b09c6827073"
   }
  }
 },
 "nbformat": 4,
 "nbformat_minor": 2
}
